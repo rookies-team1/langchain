{
 "cells": [
  {
   "cell_type": "code",
   "execution_count": null,
   "id": "bbc727ea",
   "metadata": {},
   "outputs": [],
   "source": []
  }
 ],
 "metadata": {
  "kernelspec": {
   "display_name": "llm-service-p3nUi4xe-py3.12",
   "language": "python",
   "name": "python3"
  },
  "language_info": {
   "name": "python",
   "version": "3.12.7"
  }
 },
 "nbformat": 4,
 "nbformat_minor": 5
}
