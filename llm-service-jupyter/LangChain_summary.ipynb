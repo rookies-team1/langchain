{
 "cells": [
  {
   "cell_type": "code",
   "execution_count": 2,
   "id": "00d62e8f",
   "metadata": {},
   "outputs": [],
   "source": [
    "import os\n",
    "from dotenv import load_dotenv\n",
    "from langchain_openai import ChatOpenAI \n",
    "\n",
    "\n",
    "load_dotenv()\n",
    "OPENAI_API_KEY = os.getenv(\"OPENAI_API_KEY\")"
   ]
  },
  {
   "cell_type": "code",
   "execution_count": null,
   "id": "f1e28c69",
   "metadata": {},
   "outputs": [
    {
     "data": {
      "text/plain": [
       "PromptTemplate(input_variables=['content', 'title'], input_types={}, partial_variables={}, template='\\n    당신은 경제 및 산업 분석에 능한 리서처입니다.\\n\\n    아래는 한 기업에 대한 뉴스 기사입니다.\\n    이력서를 준비 중인 취업 준비생이 해당 기업을 분석하는 데 도움이 되도록, 핵심 내용을 3~4문장으로 요약해 주세요.\\n\\n    요약은 다음 기준에 맞게 작성해 주세요:\\n    - 기업의 최근 이슈, 실적, 전략, 사업 방향 등을 중심으로\\n    - 과장 없이, 사실 기반으로\\n    - 투자자가 아닌 취준생의 시선에서 기업을 이해하는 데 도움되도록\\n\\n    [제목]\\n    {title}\\n\\n    [내용]\\n    {content}\\n    ')"
      ]
     },
     "execution_count": 11,
     "metadata": {},
     "output_type": "execute_result"
    }
   ],
   "source": [
    "# prompt\n",
    "from langchain_core.prompts import PromptTemplate\n",
    "from langchain_core.output_parsers import StrOutputParser\n",
    "\n",
    "\n",
    "prompt = PromptTemplate(\n",
    "    input_variables=[\"title\", \"content\"],\n",
    "    template=\"\"\"\n",
    "    당신은 경제 및 산업 분석에 능한 리서처입니다.\n",
    "\n",
    "    아래는 한 기업에 대한 뉴스 기사입니다.\n",
    "    이력서를 준비 중인 취업 준비생이 해당 기업을 분석하는 데 도움이 되도록, 핵심 내용을 3~4문장으로 요약해 주세요.\n",
    "\n",
    "    요약은 다음 기준에 맞게 작성해 주세요:\n",
    "    - 기업의 최근 이슈, 실적, 전략, 사업 방향 등을 중심으로\n",
    "    - 과장 없이, 사실 기반으로\n",
    "    - 투자자가 아닌 취준생의 시선에서 기업을 이해하는 데 도움되도록\n",
    "\n",
    "    [제목]\n",
    "    {title}\n",
    "\n",
    "    [내용]\n",
    "    {content}\n",
    "    \"\"\")                                     \n"
   ]
  },
  {
   "cell_type": "code",
   "execution_count": 12,
   "id": "065e532b",
   "metadata": {},
   "outputs": [
    {
     "name": "stdout",
     "output_type": "stream",
     "text": [
      "client=<openai.resources.chat.completions.completions.Completions object at 0x00000146D0C4BB30> async_client=<openai.resources.chat.completions.completions.AsyncCompletions object at 0x00000146D157B860> root_client=<openai.OpenAI object at 0x00000146D15E9010> root_async_client=<openai.AsyncOpenAI object at 0x00000146F790B260> model_name='meta-llama/llama-4-scout-17b-16e-instruct' temperature=0.7 model_kwargs={} openai_api_key=SecretStr('**********') openai_api_base='https://api.groq.com/openai/v1'\n"
     ]
    }
   ],
   "source": [
    "# Groq API를 사용하는 ChatOpenAI 인스턴스 생성\n",
    "llm = ChatOpenAI(\n",
    "    api_key=OPENAI_API_KEY,\n",
    "    base_url=\"https://api.groq.com/openai/v1\",  # Groq API 엔드포인트\n",
    "    model=\"meta-llama/llama-4-scout-17b-16e-instruct\",\n",
    "    temperature=0.7\n",
    ")\n",
    "print(llm)"
   ]
  },
  {
   "cell_type": "code",
   "execution_count": 13,
   "id": "f943c3ab",
   "metadata": {},
   "outputs": [
    {
     "name": "stdout",
     "output_type": "stream",
     "text": [
      "<class 'langchain_core.runnables.base.RunnableSequence'>\n"
     ]
    }
   ],
   "source": [
    "# chain 연결 (LCEL)\n",
    "chain = prompt | llm\n",
    "print(type(chain))"
   ]
  },
  {
   "cell_type": "code",
   "execution_count": 7,
   "id": "c5b06fad",
   "metadata": {},
   "outputs": [],
   "source": [
    "news_json = {\n",
    "    \"title\": \"삼성전자, 2분기 영업이익 8조 돌파\",\n",
    "    \"content\": \"\"\"삼성전자가 2025년 2분기 실적을 발표하며 영업이익 8조 원을 기록했다.\n",
    "    반도체 부문의 회복과 갤럭시 스마트폰 시리즈의 글로벌 판매 호조가 주된 요인으로 분석된다.\n",
    "    전년 동기 대비 120% 증가한 수치로, 시장 기대치를 상회한 실적이다.\n",
    "    삼성전자는 하반기에도 메모리 수요 회복세가 지속될 것으로 내다봤다.\"\"\"\n",
    "}"
   ]
  },
  {
   "cell_type": "code",
   "execution_count": 14,
   "id": "f8152d0e",
   "metadata": {},
   "outputs": [
    {
     "name": "stdout",
     "output_type": "stream",
     "text": [
      "<class 'langchain_core.runnables.base.RunnableSequence'>\n"
     ]
    }
   ],
   "source": [
    "from langchain_core.output_parsers import StrOutputParser\n",
    "\n",
    "# chain 연결 (LCEL) prompt + llm + outputparser\n",
    "output_parser = StrOutputParser()\n",
    "\n",
    "chain2 = prompt | llm | output_parser\n",
    "print(type(chain2))"
   ]
  },
  {
   "cell_type": "code",
   "execution_count": null,
   "id": "718dc12d",
   "metadata": {},
   "outputs": [
    {
     "name": "stdout",
     "output_type": "stream",
     "text": [
      "<class 'langchain_core.messages.ai.AIMessage'>\n",
      "삼성전자가 2025년 2분기 실적을 발표했는데, 반도체 부문의 회복과 갤럭시 스마트폰 시리즈의 글로벌 판매 호조로 영업이익이 8조 원을 돌파했습니다. 이는 전년 동기 대비 120% 증가한 수치로, 시장 기대치를 상회한 실적입니다. 삼성전자는 하반기에도 메모리 수요 회복세가 지속될 것으로 전망하고 있습니다. 이를 통해 삼성전자의 반도체와 스마트폰 사업이 안정적인 성장세를 보이고 있음을 알 수 있습니다.\n"
     ]
    }
   ],
   "source": [
    "from langchain_core.output_parsers import StrOutputParser\n",
    "\n",
    "\n",
    "# chain 호출\n",
    "try:\n",
    "    result = chain.invoke(news_json)\n",
    "    print(type(result))\n",
    "    print(result.content)\n",
    "except Exception as e:\n",
    "    print(f\"오류 발생: {e}\")"
   ]
  },
  {
   "cell_type": "code",
   "execution_count": 16,
   "id": "1b5b2b20",
   "metadata": {},
   "outputs": [
    {
     "name": "stdout",
     "output_type": "stream",
     "text": [
      "<class 'str'>\n",
      "삼성전자가 2024년 2분기 실적을 발표했는데요, 반도체 부문의 회복과 갤럭시 스마트폰 시리즈의 글로벌 판매 호조로 영업이익이 8조 원을 돌파했습니다. 이는 전년 동기 대비 120% 증가한 수치로, 시장 기대치를 상회한 실적입니다. 삼성전자는 하반기에도 메모리 수요 회복세가 지속될 것으로 전망하고 있습니다.\n"
     ]
    }
   ],
   "source": [
    "# chain 호출\n",
    "try:\n",
    "    result = chain2.invoke(news_json)\n",
    "    print(type(result))\n",
    "    print(result)\n",
    "except Exception as e:\n",
    "    print(f\"오류 발생: {e}\")"
   ]
  }
 ],
 "metadata": {
  "kernelspec": {
   "display_name": "langchain-basic-AGfTwH54-py3.12",
   "language": "python",
   "name": "python3"
  },
  "language_info": {
   "codemirror_mode": {
    "name": "ipython",
    "version": 3
   },
   "file_extension": ".py",
   "mimetype": "text/x-python",
   "name": "python",
   "nbconvert_exporter": "python",
   "pygments_lexer": "ipython3",
   "version": "3.12.7"
  }
 },
 "nbformat": 4,
 "nbformat_minor": 5
}
